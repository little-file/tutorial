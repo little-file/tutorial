{
 "cells": [
  {
   "cell_type": "code",
   "execution_count": 1,
   "id": "408c3b7e-b825-41d2-af1b-4f1e7becb77a",
   "metadata": {},
   "outputs": [
    {
     "name": "stdout",
     "output_type": "stream",
     "text": [
      "0.1.0 \n",
      " author:AiTaiyo\n"
     ]
    }
   ],
   "source": [
    "v=\"0.1.0\"\n",
    "author=\"author:AiTaiyo\"\n",
    "print(v ,\"\\n\", author)"
   ]
  },
  {
   "cell_type": "markdown",
   "id": "44ff7320-a200-48b7-86a6-6b521341a04b",
   "metadata": {},
   "source": [
    "**canlarım bu ufak bir tab öğretme**\n",
    "*if , def(sonra) vb. yerlerde tab basılır.*"
   ]
  },
  {
   "cell_type": "code",
   "execution_count": 2,
   "id": "c87170f5-4d45-4e0e-b681-5d00ccf5d639",
   "metadata": {},
   "outputs": [
    {
     "name": "stdout",
     "output_type": "stream",
     "text": [
      "perfecto\n",
      "perfecto2\n"
     ]
    }
   ],
   "source": [
    "x=5\n",
    "y=2\n",
    "if x > y:\n",
    "        print(\"perfecto\")\n",
    "if x > y:\n",
    "    print(\"perfecto2\")"
   ]
  },
  {
   "cell_type": "markdown",
   "id": "af5cc9bc-136c-4ce8-942a-ccab091f3031",
   "metadata": {},
   "source": [
    "**comment line**"
   ]
  },
  {
   "cell_type": "code",
   "execution_count": 54,
   "id": "dd0560a6-8d0f-492d-bf74-a6284cc45326",
   "metadata": {},
   "outputs": [
    {
     "name": "stdout",
     "output_type": "stream",
     "text": [
      "hello world\n",
      "hello world\n",
      "helloworld\n"
     ]
    }
   ],
   "source": [
    "'''\n",
    "hello\n",
    "how\n",
    "are \n",
    "you\n",
    "'''\n",
    "print(\"hello world\")#hmmmm comment\n",
    "#comment\n",
    "'''\n",
    "hello\n",
    "how\n",
    "are \n",
    "you\n",
    "'''\n",
    "print(\"hello\",\"world\")\n",
    "print(\"hello\"+\"world\")"
   ]
  },
  {
   "cell_type": "markdown",
   "id": "1c1e4014-3361-489b-90e7-cc4494147f4a",
   "metadata": {},
   "source": [
    "**basit cebilsel ifade**"
   ]
  },
  {
   "cell_type": "code",
   "execution_count": 49,
   "id": "5d81f13b-5712-4fa7-9eeb-bfc2872be296",
   "metadata": {},
   "outputs": [
    {
     "name": "stdout",
     "output_type": "stream",
     "text": [
      "5\n",
      "adana\n",
      "4\n",
      "salata\n",
      "3\n",
      "3\n",
      "3.0\n",
      "<class 'int'>\n",
      "<class 'str'>\n"
     ]
    }
   ],
   "source": [
    "x=5\n",
    "y=\"adana\"\n",
    "print(x)\n",
    "print(y)\n",
    "x=4 # it is init #bu bir init\n",
    "print(x)\n",
    "x=\"salata\"# it is type string # bu bir yazı\n",
    "print(x)\n",
    "x=str(3)# will '3'\n",
    "print(x)\n",
    "x=int(3)# will be 3\n",
    "print(x)\n",
    "x=float(3)#will be 3.0\n",
    "print(x)\n",
    "x=5\n",
    "print(type(x))#which type \n",
    "x=\"ahmet\"\n",
    "print(type(x))#hangi tip olduğunu gösterir\n",
    "x=\"gun\"\n",
    "x='gun'#two same\n",
    "a=3\n",
    "A=\"cos30=:D\"\n",
    "#A will not overwrite a\n",
    "#A diğer a'nın üstüne yazmaz"
   ]
  },
  {
   "cell_type": "markdown",
   "id": "548fca76-7975-4441-9ff1-30c18ef52610",
   "metadata": {
    "scrolled": true
   },
   "source": [
    "**cebilselin yazlış kuralı**"
   ]
  },
  {
   "cell_type": "code",
   "execution_count": 50,
   "id": "0df6db43-f98f-40d0-b036-a642254f0df3",
   "metadata": {},
   "outputs": [
    {
     "ename": "SyntaxError",
     "evalue": "invalid decimal literal (1789707176.py, line 9)",
     "output_type": "error",
     "traceback": [
      "\u001b[0;36m  Cell \u001b[0;32mIn[50], line 9\u001b[0;36m\u001b[0m\n\u001b[0;31m    2awfafaw=\"false\"\u001b[0m\n\u001b[0m    ^\u001b[0m\n\u001b[0;31mSyntaxError\u001b[0m\u001b[0;31m:\u001b[0m invalid decimal literal\n"
     ]
    }
   ],
   "source": [
    "#true\n",
    "awnnganwoga=\"test\"\n",
    "awnfawlg_awkgnalwgna=\"wgawa\"\n",
    "_wafkwanfka_awkfalfawf=\"asfawgaw\"\n",
    "AWlgnLW=\"wteta\"\n",
    "AFAWFWMAF=\"312wdasf\"\n",
    "AWFAWF241251515124=\"test\"\n",
    "#false\n",
    "2awfafaw=\"false\"\n",
    "my-money=\":D\"\n",
    "my money=\"falseeee\""
   ]
  },
  {
   "cell_type": "markdown",
   "id": "d7467176-5334-494d-9d7f-895d740fd6fa",
   "metadata": {},
   "source": [
    "**multi cebilsel ifade**"
   ]
  },
  {
   "cell_type": "code",
   "execution_count": 51,
   "id": "8b15d423-32e2-445a-b4f9-ba9ddbb19c63",
   "metadata": {},
   "outputs": [
    {
     "name": "stdout",
     "output_type": "stream",
     "text": [
      "hmmmm\n",
      "hello\n",
      "whut sup man\n",
      "farklı alan\n",
      "orangutan\n",
      "orangutan\n",
      "orangutan\n",
      "------farklı alan-----\n",
      "elma firması :D\n",
      "hmmm eskiden muzların içinde çekirdek varmış\n",
      "bizim okulun bahçesinde kiraz ağacı var\n"
     ]
    }
   ],
   "source": [
    "x , y , z = \"hmmmm\" , \"hello\" , \"whut sup man\"\n",
    "print(x)\n",
    "print(y)\n",
    "print(z)\n",
    "print(\"farklı alan\")\n",
    "x=y=z=\"orangutan\"\n",
    "print(x)\n",
    "print(y)\n",
    "print(z)\n",
    "print(\"------farklı alan-----\")\n",
    "meyve=[\"elma firması :D\",\"hmmm eskiden muzların içinde çekirdek varmış\",\"bizim okulun bahçesinde kiraz ağacı var\"]\n",
    "x,y,z=meyve\n",
    "print(x)\n",
    "print(y)\n",
    "print(z)\n"
   ]
  },
  {
   "cell_type": "markdown",
   "id": "8368be85-6b97-4d09-a86d-9a09f861fb1d",
   "metadata": {},
   "source": [
    "**print cebilsel ifade kullanmı**"
   ]
  },
  {
   "cell_type": "code",
   "execution_count": 56,
   "id": "3bda9fc4-3500-448d-8147-cc6c0be22b55",
   "metadata": {},
   "outputs": [
    {
     "name": "stdout",
     "output_type": "stream",
     "text": [
      "piton basit gibi geliyor demi.\n",
      "piton basit gelmek demi\n",
      "nabercanımben kelebek\n",
      "12637486\n",
      "2\n",
      "1\n",
      "adana kebab şukadar tl 125125\n"
     ]
    },
    {
     "ename": "TypeError",
     "evalue": "can only concatenate str (not \"int\") to str",
     "output_type": "error",
     "traceback": [
      "\u001b[0;31m---------------------------------------------------------------------------\u001b[0m",
      "\u001b[0;31mTypeError\u001b[0m                                 Traceback (most recent call last)",
      "Cell \u001b[0;32mIn[56], line 23\u001b[0m\n\u001b[1;32m     21\u001b[0m y\u001b[38;5;241m=\u001b[39m\u001b[38;5;124m\"\u001b[39m\u001b[38;5;124madana kebab şukadar tl\u001b[39m\u001b[38;5;124m\"\u001b[39m\n\u001b[1;32m     22\u001b[0m \u001b[38;5;28mprint\u001b[39m(y,x)\n\u001b[0;32m---> 23\u001b[0m \u001b[38;5;28mprint\u001b[39m(\u001b[43my\u001b[49m\u001b[38;5;241;43m+\u001b[39;49m\u001b[43mx\u001b[49m)\n",
      "\u001b[0;31mTypeError\u001b[0m: can only concatenate str (not \"int\") to str"
     ]
    }
   ],
   "source": [
    "x=\"piton basit gibi geliyor demi.\"\n",
    "print(x)\n",
    "#veya\n",
    "x=\"piton\"\n",
    "y=\"basit gelmek\"\n",
    "z=\"demi\"\n",
    "print(x,y,z)\n",
    "#bide birleşiğimiz var\n",
    "x=\"naber\"\n",
    "y=\"canım\"\n",
    "z=\"ben kelebek\"\n",
    "print(x+y+z)\n",
    "x=125125\n",
    "y=12512361\n",
    "print(x+y)\n",
    "a=2\n",
    "A=1\n",
    "print(a)\n",
    "print(A)\n",
    "#bunu aklından mı geçirdinsen yoksa\n",
    "y=\"adana kebab şukadar tl\"\n",
    "print(y,x)\n",
    "print(y+x)#false\n"
   ]
  },
  {
   "cell_type": "markdown",
   "id": "a32ba93b-2221-4f80-a60e-22f3e36eae10",
   "metadata": {},
   "source": [
    "**global cebilsel ifade**"
   ]
  },
  {
   "cell_type": "code",
   "execution_count": 57,
   "id": "fa22ddc3-be96-479a-9535-2ac6888b52a3",
   "metadata": {},
   "outputs": [
    {
     "name": "stdout",
     "output_type": "stream",
     "text": [
      "fonkiyon x =  global\n",
      "fonkiyon x =  ada\n",
      "global\n",
      "güzel bu aslında\n",
      "Python is fantastic\n"
     ]
    }
   ],
   "source": [
    "x = \"global\"\n",
    "def xfonksiyon():\n",
    "    print(\"fonkiyon x = \",x)\n",
    "xfonksiyon()\n",
    "def xfonksiyon():\n",
    "    x=\"ada\"\n",
    "    print(\"fonkiyon x = \",x)\n",
    "xfonksiyon()\n",
    "print(x)\n",
    "def yfonksiyon():\n",
    "    global y\n",
    "    y = \"güzel bu aslında\"\n",
    "yfonksiyon()\n",
    "print(y)\n",
    "\n",
    "x = \"awesome\"\n",
    "\n",
    "def myfunc():\n",
    "  global x\n",
    "  x = \"fantastic\"\n",
    "\n",
    "myfunc()\n",
    "\n",
    "print(\"Python is \" + x) "
   ]
  },
  {
   "cell_type": "markdown",
   "id": "ea718a0d-e029-457e-83a5-185aca3ba623",
   "metadata": {},
   "source": [
    "**verinin tipi**"
   ]
  },
  {
   "cell_type": "code",
   "execution_count": 19,
   "id": "a0bea783-d0b2-4546-85f6-bf22246dcf6d",
   "metadata": {},
   "outputs": [
    {
     "name": "stdout",
     "output_type": "stream",
     "text": [
      "<class 'str'>\n",
      "<class 'int'>\n",
      "<class 'float'>\n",
      "<class 'complex'>\n",
      "<class 'list'>\n",
      "<class 'tuple'>\n",
      "<class 'range'>\n",
      "<class 'dict'>\n",
      "<class 'set'>\n",
      "<class 'frozenset'>\n",
      "<class 'bool'>\n",
      "<class 'bytes'>\n",
      "<class 'bytearray'>\n",
      "<class 'memoryview'>\n",
      "<class 'NoneType'>\n"
     ]
    }
   ],
   "source": [
    "# en basidi yazı tipi\n",
    "x = \"merhaba ben yazı.\"\n",
    "print(type(x))\n",
    "# sayı tipleri\n",
    "x , y ,z=[5 , 5.0 , 6j]\n",
    "#bilgilendirme 1j dediğimiz matamatik lise 2 de bize öğretilen karmaşık sayılar kümesi\n",
    "print(type(x))\n",
    "print(type(y))\n",
    "print(type(z))\n",
    "# sıralyıcı , düzeneyeici tipe geldik\n",
    "x = [\"apple\",\"banana\",\"cherry\"]\n",
    "y = (\"apple\",\"banana\",\"cherry\")\n",
    "z = range(6)\n",
    "print(type(x))\n",
    "print(type(y))\n",
    "print(type(z))\n",
    "#haritlanadırma tipi\n",
    "x =  {\"name\" : \"ali\", \"age\": 17}\n",
    "print(type(x))\n",
    "#ayarlamak tipi\n",
    "x = {\"apple\",\"banana\",\"cherry\"}\n",
    "y = frozenset({\"apple\",\"banana\",\"cherry\"})\n",
    "print(type(x))\n",
    "print(type(y))\n",
    "#malesef bunun türkçesi yok Boolean tipi\n",
    "x = True\n",
    "print(type(x))\n",
    "# betik tipi çoğunuzn binary olara bilir\n",
    "x = b\"hello\"\n",
    "y = bytearray(1)\n",
    "z = memoryview(bytes(1))\n",
    "print(type(x))\n",
    "print(type(y))\n",
    "print(type(z))\n",
    "# bide tipi olmayan varda ne işe yaradığın bilmiyom\n",
    "x = None\n",
    "print(type(x))\n",
    "# ufak bilgilendirme geçiyorum tipi belli birşey ise bu şekilde zorunlarsınız.\n",
    "x=str(\"hello\")\n",
    "q=int(1)\n",
    "w=float(0.9)\n",
    "e=complex(1j)\n",
    "a=list((\"apple\",\"banana\",\"cherry\"))\n",
    "s=tuple((\"apple\",\"banana\",\"cherry\"))\n",
    "d=range(2)\n",
    "z=dict(name=\"abc\",age=1)\n",
    "c=set((\"apple\",\"banana\",\"cherry\"))\n",
    "r = frozenset((\"apple\", \"banana\", \"cherry\"))\n",
    "f = bool(5)\n",
    "v = bytes(5)\n",
    "t = bytearray(5)\n",
    "g = memoryview(bytes(5))\n"
   ]
  },
  {
   "cell_type": "markdown",
   "id": "e49245e5-9007-4e18-8754-6bdb0344dd1f",
   "metadata": {},
   "source": [
    "**numaralar**"
   ]
  },
  {
   "cell_type": "code",
   "execution_count": 33,
   "id": "b5a18eca-f8fc-4344-8d57-4f1e9e7c8aa0",
   "metadata": {},
   "outputs": [
    {
     "name": "stdout",
     "output_type": "stream",
     "text": [
      "<class 'int'>\n",
      "<class 'int'>\n",
      "<class 'int'>\n",
      "<class 'float'>\n",
      "<class 'float'>\n",
      "<class 'float'>\n",
      "<class 'float'>\n",
      "<class 'float'>\n",
      "<class 'float'>\n",
      "<class 'complex'>\n",
      "<class 'complex'>\n",
      "<class 'complex'>\n",
      "1.0\n",
      "1\n",
      "(1+0j)\n",
      "<class 'float'>\n",
      "<class 'int'>\n",
      "<class 'complex'>\n",
      "\n"
     ]
    }
   ],
   "source": [
    "x=1 # int\n",
    "y=2.1 # float\n",
    "z=1j # complex\n",
    "# tipini öğrenmek içinde python(type(x)) yapabilrisiniz \n",
    "# int için örnek\n",
    "x=1\n",
    "y=12419851265891265891283901323912515\n",
    "z=-1826498568134\n",
    "print(type(x))\n",
    "print(type(y))\n",
    "print(type(z))\n",
    "# şimdi ise float geçelim\n",
    "x=1.1241515\n",
    "y=1.0\n",
    "z=-1.1295719825612895\n",
    "print(type(x))\n",
    "print(type(y))\n",
    "print(type(z))\n",
    "# float bide e vardı 10 kuvatlerini belirlemek içinde aynı 1.10² gibimsi  olarak düşüne bilrisin 1.10²=1E2=1.e2\n",
    "x=1241241e212414\n",
    "y=123124E12412512\n",
    "z=-12412.124124e12415\n",
    "print(type(x))\n",
    "print(type(y))\n",
    "print(type(z))\n",
    "# evet şimdi ise karmaşıktayız\n",
    "x=3+5j\n",
    "y=1j\n",
    "z=-7j\n",
    "print(type(x))\n",
    "print(type(y))\n",
    "print(type(z))\n",
    "# bizim hani tip belirlemek için olan int , float ve complex metodunu kullanarak dönüştüre bilrisin.\n",
    "x=1\n",
    "y=1.142\n",
    "z=1j\n",
    "a=float(x)\n",
    "b=int(y)\n",
    "c=complex(x)\n",
    "print(a)\n",
    "print(b)\n",
    "print(c)\n",
    "print(type(a))\n",
    "print(type(b))\n",
    "print(type(c)) \n",
    "# ufak bilgilendirme biliyom düşündünüz komplex dönüştüremesin :D\n",
    "\"\"\"\n",
    " hmm random bir sayı oluşturmak için bir fonkisyon yok ama\n",
    " kutuphane var onun içinde import random yazıyon\n",
    " print (random.randrange(1, 10)) yazıyon 1 ila 10 arasında sayı yapıyor neyse\n",
    " belki merak edersin diye yazdım\n",
    "\"\"\"\n",
    "print()# bunu önemseme yukardaki yorum satırı bug giriyordu düzeltim"
   ]
  },
  {
   "cell_type": "markdown",
   "id": "89853e32",
   "metadata": {},
   "source": [
    "**tipi diğer tiplere çevirmek**"
   ]
  },
  {
   "cell_type": "code",
   "execution_count": null,
   "id": "5751ee98",
   "metadata": {},
   "outputs": [],
   "source": [
    "x = int(3) #print 3\n",
    "y = int(4.4)# print 4\n",
    "z = int(\"2\") # print 2\n",
    "\n",
    "a = float(1) # print 1.0\n",
    "s = float(2.9) # print 2.9\n",
    "q = float(\"4\") # print 4\n",
    "w = float(\"2.5\") # print 2.5\n",
    "\n",
    "c = str(\"s1\")  # print s1\n",
    "v = str(1) # print 1\n",
    "g = str(4.2) # print 4.2\n",
    "\n"
   ]
  },
  {
   "cell_type": "markdown",
   "id": "cccce41c",
   "metadata": {},
   "source": []
  }
 ],
 "metadata": {
  "kernelspec": {
   "display_name": "Python 3 (ipykernel)",
   "language": "python",
   "name": "python3"
  },
  "language_info": {
   "codemirror_mode": {
    "name": "ipython",
    "version": 3
   },
   "file_extension": ".py",
   "mimetype": "text/x-python",
   "name": "python",
   "nbconvert_exporter": "python",
   "pygments_lexer": "ipython3",
   "version": "3.10.6"
  }
 },
 "nbformat": 4,
 "nbformat_minor": 5
}
